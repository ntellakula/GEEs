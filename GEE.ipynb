{
 "cells": [
  {
   "cell_type": "markdown",
   "metadata": {},
   "source": [
    "## Introduction\n",
    "\n",
    "The GEE, or generalized estimating equation, is a model meant to estimate the parameters of a generalized linear model with unknown correlation between outcomes. They work with longitudinal data, multi-cohort data, and are chosen specifically to avoid the sensitivity to correlation structures a la GLMs.\n",
    "\n",
    "### Necessary Libraries\n",
    "We'll load the the necessary libraries into the environment and follow it up by importing the data."
   ]
  },
  {
   "cell_type": "code",
   "execution_count": 3,
   "metadata": {},
   "outputs": [
    {
     "name": "stderr",
     "output_type": "stream",
     "text": [
      "Registered S3 methods overwritten by 'ggplot2':\n",
      "  method         from \n",
      "  [.quosures     rlang\n",
      "  c.quosures     rlang\n",
      "  print.quosures rlang\n",
      "Registered S3 method overwritten by 'rvest':\n",
      "  method            from\n",
      "  read_xml.response xml2\n",
      "-- Attaching packages --------------------------------------- tidyverse 1.2.1 --\n",
      "v ggplot2 3.1.1       v purrr   0.3.2  \n",
      "v tibble  2.1.1       v dplyr   0.8.0.1\n",
      "v tidyr   0.8.3       v stringr 1.4.0  \n",
      "v readr   1.3.1       v forcats 0.4.0  \n",
      "-- Conflicts ------------------------------------------ tidyverse_conflicts() --\n",
      "x tidyr::complete() masks RCurl::complete()\n",
      "x dplyr::filter()   masks stats::filter()\n",
      "x dplyr::lag()      masks stats::lag()\n"
     ]
    },
    {
     "data": {
      "text/html": [
       "<table>\n",
       "<caption>A data.frame: 6 × 8</caption>\n",
       "<thead>\n",
       "\t<tr><th scope=col>id</th><th scope=col>response</th><th scope=col>sex</th><th scope=col>race</th><th scope=col>type</th><th scope=col>count</th><th scope=col>i</th><th scope=col>CASE</th></tr>\n",
       "\t<tr><th scope=col>&lt;int&gt;</th><th scope=col>&lt;int&gt;</th><th scope=col>&lt;int&gt;</th><th scope=col>&lt;int&gt;</th><th scope=col>&lt;int&gt;</th><th scope=col>&lt;int&gt;</th><th scope=col>&lt;int&gt;</th><th scope=col>&lt;int&gt;</th></tr>\n",
       "</thead>\n",
       "<tbody>\n",
       "\t<tr><td>1</td><td>1</td><td>0</td><td>0</td><td>1</td><td>68</td><td>1</td><td>0</td></tr>\n",
       "\t<tr><td>1</td><td>1</td><td>0</td><td>0</td><td>1</td><td>68</td><td>2</td><td>1</td></tr>\n",
       "\t<tr><td>1</td><td>1</td><td>0</td><td>0</td><td>1</td><td>68</td><td>3</td><td>2</td></tr>\n",
       "\t<tr><td>1</td><td>1</td><td>0</td><td>0</td><td>1</td><td>68</td><td>4</td><td>3</td></tr>\n",
       "\t<tr><td>1</td><td>1</td><td>0</td><td>0</td><td>1</td><td>68</td><td>5</td><td>4</td></tr>\n",
       "\t<tr><td>1</td><td>1</td><td>0</td><td>0</td><td>1</td><td>68</td><td>6</td><td>5</td></tr>\n",
       "</tbody>\n",
       "</table>\n"
      ],
      "text/latex": [
       "A data.frame: 6 × 8\n",
       "\\begin{tabular}{r|llllllll}\n",
       " id & response & sex & race & type & count & i & CASE\\\\\n",
       " <int> & <int> & <int> & <int> & <int> & <int> & <int> & <int>\\\\\n",
       "\\hline\n",
       "\t 1 & 1 & 0 & 0 & 1 & 68 & 1 & 0\\\\\n",
       "\t 1 & 1 & 0 & 0 & 1 & 68 & 2 & 1\\\\\n",
       "\t 1 & 1 & 0 & 0 & 1 & 68 & 3 & 2\\\\\n",
       "\t 1 & 1 & 0 & 0 & 1 & 68 & 4 & 3\\\\\n",
       "\t 1 & 1 & 0 & 0 & 1 & 68 & 5 & 4\\\\\n",
       "\t 1 & 1 & 0 & 0 & 1 & 68 & 6 & 5\\\\\n",
       "\\end{tabular}\n"
      ],
      "text/markdown": [
       "\n",
       "A data.frame: 6 × 8\n",
       "\n",
       "| id &lt;int&gt; | response &lt;int&gt; | sex &lt;int&gt; | race &lt;int&gt; | type &lt;int&gt; | count &lt;int&gt; | i &lt;int&gt; | CASE &lt;int&gt; |\n",
       "|---|---|---|---|---|---|---|---|\n",
       "| 1 | 1 | 0 | 0 | 1 | 68 | 1 | 0 |\n",
       "| 1 | 1 | 0 | 0 | 1 | 68 | 2 | 1 |\n",
       "| 1 | 1 | 0 | 0 | 1 | 68 | 3 | 2 |\n",
       "| 1 | 1 | 0 | 0 | 1 | 68 | 4 | 3 |\n",
       "| 1 | 1 | 0 | 0 | 1 | 68 | 5 | 4 |\n",
       "| 1 | 1 | 0 | 0 | 1 | 68 | 6 | 5 |\n",
       "\n"
      ],
      "text/plain": [
       "  id response sex race type count i CASE\n",
       "1 1  1        0   0    1    68    1 0   \n",
       "2 1  1        0   0    1    68    2 1   \n",
       "3 1  1        0   0    1    68    3 2   \n",
       "4 1  1        0   0    1    68    4 3   \n",
       "5 1  1        0   0    1    68    5 4   \n",
       "6 1  1        0   0    1    68    6 5   "
      ]
     },
     "metadata": {},
     "output_type": "display_data"
    }
   ],
   "source": [
    "library(RCurl)\n",
    "library(gee)\n",
    "library(tidyverse)\n",
    "\n",
    "x <- getURL(\"https://raw.githubusercontent.com/ntellakula/GEEs/master/drug_use.csv\")\n",
    "drug_source <- read.csv(text = x)\n",
    "\n",
    "head(drug_source)"
   ]
  },
  {
   "cell_type": "markdown",
   "metadata": {},
   "source": [
    "### Data Exploration"
   ]
  },
  {
   "cell_type": "code",
   "execution_count": 16,
   "metadata": {},
   "outputs": [
    {
     "data": {
      "text/html": [
       "<ol class=list-inline>\n",
       "\t<li>6828</li>\n",
       "\t<li>8</li>\n",
       "</ol>\n"
      ],
      "text/latex": [
       "\\begin{enumerate*}\n",
       "\\item 6828\n",
       "\\item 8\n",
       "\\end{enumerate*}\n"
      ],
      "text/markdown": [
       "1. 6828\n",
       "2. 8\n",
       "\n",
       "\n"
      ],
      "text/plain": [
       "[1] 6828    8"
      ]
     },
     "metadata": {},
     "output_type": "display_data"
    },
    {
     "data": {
      "text/html": [
       "<table>\n",
       "<caption>A data.frame: 4 × 1</caption>\n",
       "<thead>\n",
       "\t<tr><th scope=col>id</th></tr>\n",
       "\t<tr><th scope=col>&lt;int&gt;</th></tr>\n",
       "</thead>\n",
       "<tbody>\n",
       "\t<tr><td>1</td></tr>\n",
       "\t<tr><td>2</td></tr>\n",
       "\t<tr><td>3</td></tr>\n",
       "\t<tr><td>4</td></tr>\n",
       "</tbody>\n",
       "</table>\n"
      ],
      "text/latex": [
       "A data.frame: 4 × 1\n",
       "\\begin{tabular}{r|l}\n",
       " id\\\\\n",
       " <int>\\\\\n",
       "\\hline\n",
       "\t 1\\\\\n",
       "\t 2\\\\\n",
       "\t 3\\\\\n",
       "\t 4\\\\\n",
       "\\end{tabular}\n"
      ],
      "text/markdown": [
       "\n",
       "A data.frame: 4 × 1\n",
       "\n",
       "| id &lt;int&gt; |\n",
       "|---|\n",
       "| 1 |\n",
       "| 2 |\n",
       "| 3 |\n",
       "| 4 |\n",
       "\n"
      ],
      "text/plain": [
       "  id\n",
       "1 1 \n",
       "2 2 \n",
       "3 3 \n",
       "4 4 "
      ]
     },
     "metadata": {},
     "output_type": "display_data"
    },
    {
     "data": {
      "text/html": [
       "<table>\n",
       "<caption>A data.frame: 2 × 1</caption>\n",
       "<thead>\n",
       "\t<tr><th scope=col>response</th></tr>\n",
       "\t<tr><th scope=col>&lt;int&gt;</th></tr>\n",
       "</thead>\n",
       "<tbody>\n",
       "\t<tr><td>1</td></tr>\n",
       "\t<tr><td>0</td></tr>\n",
       "</tbody>\n",
       "</table>\n"
      ],
      "text/latex": [
       "A data.frame: 2 × 1\n",
       "\\begin{tabular}{r|l}\n",
       " response\\\\\n",
       " <int>\\\\\n",
       "\\hline\n",
       "\t 1\\\\\n",
       "\t 0\\\\\n",
       "\\end{tabular}\n"
      ],
      "text/markdown": [
       "\n",
       "A data.frame: 2 × 1\n",
       "\n",
       "| response &lt;int&gt; |\n",
       "|---|\n",
       "| 1 |\n",
       "| 0 |\n",
       "\n"
      ],
      "text/plain": [
       "  response\n",
       "1 1       \n",
       "2 0       "
      ]
     },
     "metadata": {},
     "output_type": "display_data"
    },
    {
     "data": {
      "text/html": [
       "<table>\n",
       "<caption>A data.frame: 2 × 1</caption>\n",
       "<thead>\n",
       "\t<tr><th scope=col>sex</th></tr>\n",
       "\t<tr><th scope=col>&lt;int&gt;</th></tr>\n",
       "</thead>\n",
       "<tbody>\n",
       "\t<tr><td>0</td></tr>\n",
       "\t<tr><td>1</td></tr>\n",
       "</tbody>\n",
       "</table>\n"
      ],
      "text/latex": [
       "A data.frame: 2 × 1\n",
       "\\begin{tabular}{r|l}\n",
       " sex\\\\\n",
       " <int>\\\\\n",
       "\\hline\n",
       "\t 0\\\\\n",
       "\t 1\\\\\n",
       "\\end{tabular}\n"
      ],
      "text/markdown": [
       "\n",
       "A data.frame: 2 × 1\n",
       "\n",
       "| sex &lt;int&gt; |\n",
       "|---|\n",
       "| 0 |\n",
       "| 1 |\n",
       "\n"
      ],
      "text/plain": [
       "  sex\n",
       "1 0  \n",
       "2 1  "
      ]
     },
     "metadata": {},
     "output_type": "display_data"
    },
    {
     "data": {
      "text/html": [
       "<table>\n",
       "<caption>A data.frame: 2 × 1</caption>\n",
       "<thead>\n",
       "\t<tr><th scope=col>race</th></tr>\n",
       "\t<tr><th scope=col>&lt;int&gt;</th></tr>\n",
       "</thead>\n",
       "<tbody>\n",
       "\t<tr><td>0</td></tr>\n",
       "\t<tr><td>1</td></tr>\n",
       "</tbody>\n",
       "</table>\n"
      ],
      "text/latex": [
       "A data.frame: 2 × 1\n",
       "\\begin{tabular}{r|l}\n",
       " race\\\\\n",
       " <int>\\\\\n",
       "\\hline\n",
       "\t 0\\\\\n",
       "\t 1\\\\\n",
       "\\end{tabular}\n"
      ],
      "text/markdown": [
       "\n",
       "A data.frame: 2 × 1\n",
       "\n",
       "| race &lt;int&gt; |\n",
       "|---|\n",
       "| 0 |\n",
       "| 1 |\n",
       "\n"
      ],
      "text/plain": [
       "  race\n",
       "1 0   \n",
       "2 1   "
      ]
     },
     "metadata": {},
     "output_type": "display_data"
    },
    {
     "data": {
      "text/html": [
       "<table>\n",
       "<caption>A data.frame: 3 × 1</caption>\n",
       "<thead>\n",
       "\t<tr><th scope=col>type</th></tr>\n",
       "\t<tr><th scope=col>&lt;int&gt;</th></tr>\n",
       "</thead>\n",
       "<tbody>\n",
       "\t<tr><td>1</td></tr>\n",
       "\t<tr><td>2</td></tr>\n",
       "\t<tr><td>3</td></tr>\n",
       "</tbody>\n",
       "</table>\n"
      ],
      "text/latex": [
       "A data.frame: 3 × 1\n",
       "\\begin{tabular}{r|l}\n",
       " type\\\\\n",
       " <int>\\\\\n",
       "\\hline\n",
       "\t 1\\\\\n",
       "\t 2\\\\\n",
       "\t 3\\\\\n",
       "\\end{tabular}\n"
      ],
      "text/markdown": [
       "\n",
       "A data.frame: 3 × 1\n",
       "\n",
       "| type &lt;int&gt; |\n",
       "|---|\n",
       "| 1 |\n",
       "| 2 |\n",
       "| 3 |\n",
       "\n"
      ],
      "text/plain": [
       "  type\n",
       "1 1   \n",
       "2 2   \n",
       "3 3   "
      ]
     },
     "metadata": {},
     "output_type": "display_data"
    },
    {
     "data": {
      "text/html": [
       "910"
      ],
      "text/latex": [
       "910"
      ],
      "text/markdown": [
       "910"
      ],
      "text/plain": [
       "[1] 910"
      ]
     },
     "metadata": {},
     "output_type": "display_data"
    },
    {
     "data": {
      "text/html": [
       "6827"
      ],
      "text/latex": [
       "6827"
      ],
      "text/markdown": [
       "6827"
      ],
      "text/plain": [
       "[1] 6827"
      ]
     },
     "metadata": {},
     "output_type": "display_data"
    }
   ],
   "source": [
    "dim(drug_source)\n",
    "drug_source %>% distinct(id)\n",
    "drug_source %>% distinct(response)\n",
    "drug_source %>% distinct(sex)\n",
    "drug_source %>% distinct(race)\n",
    "drug_source %>% distinct(type)\n",
    "max(drug_source$i)\n",
    "max(drug_source$CASE)"
   ]
  },
  {
   "cell_type": "markdown",
   "metadata": {},
   "source": [
    "We can observe that this is a 6828 by 8 data frame. The information about the data set isn't the clearest, but by looking at the unique values in each column, we can deduce a few things.\n",
    "\n",
    "1. Type is the type of drug and there are 3 options. I also have the original data set so I have that omnipotent knowledge.\n",
    "2. There are 2 races.\n",
    "3. There are 2 sexes, probably M & F.\n",
    "\n",
    "The last two variables are harder to deduce as they seem to count up and are continuous.\n",
    "\n",
    "We now build a GEE. The first step is to relevel a few columns to set them as factors and declare reference levels."
   ]
  },
  {
   "cell_type": "code",
   "execution_count": 18,
   "metadata": {},
   "outputs": [
    {
     "data": {
      "text/html": [
       "<table>\n",
       "<caption>A data.frame: 6 × 8</caption>\n",
       "<thead>\n",
       "\t<tr><th scope=col>id</th><th scope=col>response</th><th scope=col>sex</th><th scope=col>race</th><th scope=col>type</th><th scope=col>count</th><th scope=col>i</th><th scope=col>CASE</th></tr>\n",
       "\t<tr><th scope=col>&lt;int&gt;</th><th scope=col>&lt;int&gt;</th><th scope=col>&lt;fct&gt;</th><th scope=col>&lt;int&gt;</th><th scope=col>&lt;fct&gt;</th><th scope=col>&lt;int&gt;</th><th scope=col>&lt;int&gt;</th><th scope=col>&lt;int&gt;</th></tr>\n",
       "</thead>\n",
       "<tbody>\n",
       "\t<tr><td>1</td><td>1</td><td>0</td><td>0</td><td>1</td><td>68</td><td>1</td><td>0</td></tr>\n",
       "\t<tr><td>1</td><td>1</td><td>0</td><td>0</td><td>1</td><td>68</td><td>2</td><td>1</td></tr>\n",
       "\t<tr><td>1</td><td>1</td><td>0</td><td>0</td><td>1</td><td>68</td><td>3</td><td>2</td></tr>\n",
       "\t<tr><td>1</td><td>1</td><td>0</td><td>0</td><td>1</td><td>68</td><td>4</td><td>3</td></tr>\n",
       "\t<tr><td>1</td><td>1</td><td>0</td><td>0</td><td>1</td><td>68</td><td>5</td><td>4</td></tr>\n",
       "\t<tr><td>1</td><td>1</td><td>0</td><td>0</td><td>1</td><td>68</td><td>6</td><td>5</td></tr>\n",
       "</tbody>\n",
       "</table>\n"
      ],
      "text/latex": [
       "A data.frame: 6 × 8\n",
       "\\begin{tabular}{r|llllllll}\n",
       " id & response & sex & race & type & count & i & CASE\\\\\n",
       " <int> & <int> & <fct> & <int> & <fct> & <int> & <int> & <int>\\\\\n",
       "\\hline\n",
       "\t 1 & 1 & 0 & 0 & 1 & 68 & 1 & 0\\\\\n",
       "\t 1 & 1 & 0 & 0 & 1 & 68 & 2 & 1\\\\\n",
       "\t 1 & 1 & 0 & 0 & 1 & 68 & 3 & 2\\\\\n",
       "\t 1 & 1 & 0 & 0 & 1 & 68 & 4 & 3\\\\\n",
       "\t 1 & 1 & 0 & 0 & 1 & 68 & 5 & 4\\\\\n",
       "\t 1 & 1 & 0 & 0 & 1 & 68 & 6 & 5\\\\\n",
       "\\end{tabular}\n"
      ],
      "text/markdown": [
       "\n",
       "A data.frame: 6 × 8\n",
       "\n",
       "| id &lt;int&gt; | response &lt;int&gt; | sex &lt;fct&gt; | race &lt;int&gt; | type &lt;fct&gt; | count &lt;int&gt; | i &lt;int&gt; | CASE &lt;int&gt; |\n",
       "|---|---|---|---|---|---|---|---|\n",
       "| 1 | 1 | 0 | 0 | 1 | 68 | 1 | 0 |\n",
       "| 1 | 1 | 0 | 0 | 1 | 68 | 2 | 1 |\n",
       "| 1 | 1 | 0 | 0 | 1 | 68 | 3 | 2 |\n",
       "| 1 | 1 | 0 | 0 | 1 | 68 | 4 | 3 |\n",
       "| 1 | 1 | 0 | 0 | 1 | 68 | 5 | 4 |\n",
       "| 1 | 1 | 0 | 0 | 1 | 68 | 6 | 5 |\n",
       "\n"
      ],
      "text/plain": [
       "  id response sex race type count i CASE\n",
       "1 1  1        0   0    1    68    1 0   \n",
       "2 1  1        0   0    1    68    2 1   \n",
       "3 1  1        0   0    1    68    3 2   \n",
       "4 1  1        0   0    1    68    4 3   \n",
       "5 1  1        0   0    1    68    5 4   \n",
       "6 1  1        0   0    1    68    6 5   "
      ]
     },
     "metadata": {},
     "output_type": "display_data"
    }
   ],
   "source": [
    "drug_source$sex <- relevel(as.factor(drug_source$sex), ref = \"0\")\n",
    "drug_source$type <- relevel(as.factor(drug_source$type), ref = \"3\")\n",
    "head(drug_source)"
   ]
  },
  {
   "cell_type": "markdown",
   "metadata": {},
   "source": [
    "We observe that <code>sex</code> and <code>type</code> have now become factors. The next step is to create the actual model."
   ]
  },
  {
   "cell_type": "code",
   "execution_count": 19,
   "metadata": {},
   "outputs": [
    {
     "name": "stderr",
     "output_type": "stream",
     "text": [
      "Beginning Cgee S-function, @(#) geeformula.q 4.13 98/01/27\n",
      "running glm to get initial regression estimate\n"
     ]
    },
    {
     "name": "stdout",
     "output_type": "stream",
     "text": [
      "(Intercept)        sex1        race       type1       type2 \n",
      "-0.67139548 -0.04333689  0.40719846  2.10622159  0.96759336 \n"
     ]
    }
   ],
   "source": [
    "drug_model <- gee(formula = response ~ sex + race + type, id = CASE,\n",
    "                  data = drug_source, family = binomial, corstr = \"exchangeable\")"
   ]
  },
  {
   "cell_type": "code",
   "execution_count": 20,
   "metadata": {},
   "outputs": [
    {
     "data": {
      "text/plain": [
       "\n",
       " GEE:  GENERALIZED LINEAR MODELS FOR DEPENDENT DATA\n",
       " gee S-function, version 4.13 modified 98/01/27 (1998) \n",
       "\n",
       "Model:\n",
       " Link:                      Logit \n",
       " Variance to Mean Relation: Binomial \n",
       " Correlation Structure:     Exchangeable \n",
       "\n",
       "Call:\n",
       "gee(formula = response ~ sex + race + type, id = CASE, data = drug_source, \n",
       "    family = binomial, corstr = \"exchangeable\")\n",
       "\n",
       "Summary of Residuals:\n",
       "       Min         1Q     Median         3Q        Max \n",
       "-0.8631880 -0.4237168  0.1420109  0.3407263  0.6714460 \n",
       "\n",
       "\n",
       "Coefficients:\n",
       "               Estimate Naive S.E.    Naive z Robust S.E.   Robust z\n",
       "(Intercept) -0.67139548 0.10534864 -6.3730815  0.10618773 -6.3227217\n",
       "sex1        -0.04333689 0.05456440 -0.7942337  0.05454414 -0.7945286\n",
       "race         0.40719846 0.10013803  4.0663719  0.10084449  4.0378852\n",
       "type1        2.10622159 0.07344012 28.6794410  0.07335092 28.7143183\n",
       "type2        0.96759336 0.06135302 15.7709178  0.06137308 15.7657616\n",
       "\n",
       "Estimated Scale Parameter:  1.000179\n",
       "Number of Iterations:  1\n",
       "\n",
       "Working Correlation\n",
       "     [,1]\n",
       "[1,]    1"
      ]
     },
     "metadata": {},
     "output_type": "display_data"
    }
   ],
   "source": [
    "summary(drug_model)"
   ]
  },
  {
   "cell_type": "markdown",
   "metadata": {},
   "source": [
    "### Model Interpretation\n",
    "\n",
    "There's quite a bit to unpack here. The <code>family</code> that was selected is <code>binomial</code>. The dependent variables of the equation to calculate drug response are all binomial or categorical. Thus, whatever family permits use of the logit link function would be the most appropriate: <code>binomial</code>. In this type of model, we will observe odds and odds ratios, not the actual predicted values as we would with continuous predictors. With the binomial and logit link function, the predicted parameter and the predictors themselves all follow different distributions. The correlation structure is defined as <code>exchangeable</code>. This means we assume the observations within a subject are equally correlated. Furthermore, in this model, we are observing main effects only. We aren't looking at any interactions between predictors.\n",
    "\n",
    "The equation of the model that can be used for predictive purposes would be:\n",
    "\n",
    "$logit(\\hat{\\pi}) = −0.671 − 0.043S + 0.407R + 1.206T_1 + 0.968T_2$\n",
    "\n",
    "Now, we want to find the parameter estimates, odds ratios, and p-values that will result in the described equation."
   ]
  },
  {
   "cell_type": "code",
   "execution_count": 21,
   "metadata": {},
   "outputs": [
    {
     "data": {
      "text/html": [
       "<table>\n",
       "<caption>A data.frame: 5 × 1</caption>\n",
       "<thead>\n",
       "\t<tr><th></th><th scope=col>drug_model.coefficients</th></tr>\n",
       "\t<tr><th></th><th scope=col>&lt;dbl&gt;</th></tr>\n",
       "</thead>\n",
       "<tbody>\n",
       "\t<tr><th scope=row>(Intercept)</th><td>-0.67139548</td></tr>\n",
       "\t<tr><th scope=row>sex1</th><td>-0.04333689</td></tr>\n",
       "\t<tr><th scope=row>race</th><td> 0.40719846</td></tr>\n",
       "\t<tr><th scope=row>type1</th><td> 2.10622159</td></tr>\n",
       "\t<tr><th scope=row>type2</th><td> 0.96759336</td></tr>\n",
       "</tbody>\n",
       "</table>\n"
      ],
      "text/latex": [
       "A data.frame: 5 × 1\n",
       "\\begin{tabular}{r|l}\n",
       "  & drug\\_model.coefficients\\\\\n",
       "  & <dbl>\\\\\n",
       "\\hline\n",
       "\t(Intercept) & -0.67139548\\\\\n",
       "\tsex1 & -0.04333689\\\\\n",
       "\trace &  0.40719846\\\\\n",
       "\ttype1 &  2.10622159\\\\\n",
       "\ttype2 &  0.96759336\\\\\n",
       "\\end{tabular}\n"
      ],
      "text/markdown": [
       "\n",
       "A data.frame: 5 × 1\n",
       "\n",
       "| <!--/--> | drug_model.coefficients &lt;dbl&gt; |\n",
       "|---|---|\n",
       "| (Intercept) | -0.67139548 |\n",
       "| sex1 | -0.04333689 |\n",
       "| race |  0.40719846 |\n",
       "| type1 |  2.10622159 |\n",
       "| type2 |  0.96759336 |\n",
       "\n"
      ],
      "text/plain": [
       "            drug_model.coefficients\n",
       "(Intercept) -0.67139548            \n",
       "sex1        -0.04333689            \n",
       "race         0.40719846            \n",
       "type1        2.10622159            \n",
       "type2        0.96759336            "
      ]
     },
     "metadata": {},
     "output_type": "display_data"
    }
   ],
   "source": [
    "est <- data.frame(drug_model$coefficients)\n",
    "est"
   ]
  },
  {
   "cell_type": "code",
   "execution_count": 25,
   "metadata": {},
   "outputs": [
    {
     "data": {
      "text/html": [
       "<table>\n",
       "<caption>A data.frame: 5 × 1</caption>\n",
       "<thead>\n",
       "\t<tr><th></th><th scope=col>sqrt.diag.drug_model.robust.variance..</th></tr>\n",
       "\t<tr><th></th><th scope=col>&lt;dbl&gt;</th></tr>\n",
       "</thead>\n",
       "<tbody>\n",
       "\t<tr><th scope=row>(Intercept)</th><td>0.10618773</td></tr>\n",
       "\t<tr><th scope=row>sex1</th><td>0.05454414</td></tr>\n",
       "\t<tr><th scope=row>race</th><td>0.10084449</td></tr>\n",
       "\t<tr><th scope=row>type1</th><td>0.07335092</td></tr>\n",
       "\t<tr><th scope=row>type2</th><td>0.06137308</td></tr>\n",
       "</tbody>\n",
       "</table>\n"
      ],
      "text/latex": [
       "A data.frame: 5 × 1\n",
       "\\begin{tabular}{r|l}\n",
       "  & sqrt.diag.drug\\_model.robust.variance..\\\\\n",
       "  & <dbl>\\\\\n",
       "\\hline\n",
       "\t(Intercept) & 0.10618773\\\\\n",
       "\tsex1 & 0.05454414\\\\\n",
       "\trace & 0.10084449\\\\\n",
       "\ttype1 & 0.07335092\\\\\n",
       "\ttype2 & 0.06137308\\\\\n",
       "\\end{tabular}\n"
      ],
      "text/markdown": [
       "\n",
       "A data.frame: 5 × 1\n",
       "\n",
       "| <!--/--> | sqrt.diag.drug_model.robust.variance.. &lt;dbl&gt; |\n",
       "|---|---|\n",
       "| (Intercept) | 0.10618773 |\n",
       "| sex1 | 0.05454414 |\n",
       "| race | 0.10084449 |\n",
       "| type1 | 0.07335092 |\n",
       "| type2 | 0.06137308 |\n",
       "\n"
      ],
      "text/plain": [
       "            sqrt.diag.drug_model.robust.variance..\n",
       "(Intercept) 0.10618773                            \n",
       "sex1        0.05454414                            \n",
       "race        0.10084449                            \n",
       "type1       0.07335092                            \n",
       "type2       0.06137308                            "
      ]
     },
     "metadata": {},
     "output_type": "display_data"
    }
   ],
   "source": [
    "stderr <- data.frame(sqrt(diag(drug_model$robust.variance)))\n",
    "stderr"
   ]
  },
  {
   "cell_type": "code",
   "execution_count": 26,
   "metadata": {},
   "outputs": [
    {
     "data": {
      "text/html": [
       "<table>\n",
       "<caption>A data.frame: 5 × 1</caption>\n",
       "<thead>\n",
       "\t<tr><th></th><th scope=col>drug_model.coefficients</th></tr>\n",
       "\t<tr><th></th><th scope=col>&lt;dbl&gt;</th></tr>\n",
       "</thead>\n",
       "<tbody>\n",
       "\t<tr><th scope=row>(Intercept)</th><td>-6.3227217</td></tr>\n",
       "\t<tr><th scope=row>sex1</th><td>-0.7945286</td></tr>\n",
       "\t<tr><th scope=row>race</th><td> 4.0378852</td></tr>\n",
       "\t<tr><th scope=row>type1</th><td>28.7143183</td></tr>\n",
       "\t<tr><th scope=row>type2</th><td>15.7657616</td></tr>\n",
       "</tbody>\n",
       "</table>\n"
      ],
      "text/latex": [
       "A data.frame: 5 × 1\n",
       "\\begin{tabular}{r|l}\n",
       "  & drug\\_model.coefficients\\\\\n",
       "  & <dbl>\\\\\n",
       "\\hline\n",
       "\t(Intercept) & -6.3227217\\\\\n",
       "\tsex1 & -0.7945286\\\\\n",
       "\trace &  4.0378852\\\\\n",
       "\ttype1 & 28.7143183\\\\\n",
       "\ttype2 & 15.7657616\\\\\n",
       "\\end{tabular}\n"
      ],
      "text/markdown": [
       "\n",
       "A data.frame: 5 × 1\n",
       "\n",
       "| <!--/--> | drug_model.coefficients &lt;dbl&gt; |\n",
       "|---|---|\n",
       "| (Intercept) | -6.3227217 |\n",
       "| sex1 | -0.7945286 |\n",
       "| race |  4.0378852 |\n",
       "| type1 | 28.7143183 |\n",
       "| type2 | 15.7657616 |\n",
       "\n"
      ],
      "text/plain": [
       "            drug_model.coefficients\n",
       "(Intercept) -6.3227217             \n",
       "sex1        -0.7945286             \n",
       "race         4.0378852             \n",
       "type1       28.7143183             \n",
       "type2       15.7657616             "
      ]
     },
     "metadata": {},
     "output_type": "display_data"
    }
   ],
   "source": [
    "wald_z <- est/stderr\n",
    "wald_z"
   ]
  },
  {
   "cell_type": "code",
   "execution_count": 27,
   "metadata": {},
   "outputs": [
    {
     "data": {
      "text/html": [
       "<dl class=dl-horizontal>\n",
       "\t<dt>(Intercept)</dt>\n",
       "\t\t<dd>2.56995980052466e-10</dd>\n",
       "\t<dt>sex1</dt>\n",
       "\t\t<dd>0.426887737514304</dd>\n",
       "\t<dt>race</dt>\n",
       "\t\t<dd>5.39352269774973e-05</dd>\n",
       "\t<dt>type1</dt>\n",
       "\t\t<dd>0</dd>\n",
       "\t<dt>type2</dt>\n",
       "\t\t<dd>0</dd>\n",
       "</dl>\n"
      ],
      "text/latex": [
       "\\begin{description*}\n",
       "\\item[(Intercept)] 2.56995980052466e-10\n",
       "\\item[sex1] 0.426887737514304\n",
       "\\item[race] 5.39352269774973e-05\n",
       "\\item[type1] 0\n",
       "\\item[type2] 0\n",
       "\\end{description*}\n"
      ],
      "text/markdown": [
       "(Intercept)\n",
       ":   2.56995980052466e-10sex1\n",
       ":   0.426887737514304race\n",
       ":   5.39352269774973e-05type1\n",
       ":   0type2\n",
       ":   0\n",
       "\n"
      ],
      "text/plain": [
       " (Intercept)         sex1         race        type1        type2 \n",
       "2.569960e-10 4.268877e-01 5.393523e-05 0.000000e+00 0.000000e+00 "
      ]
     },
     "metadata": {},
     "output_type": "display_data"
    }
   ],
   "source": [
    "p_values <- 2 * (1 - pnorm(abs(wald_z[ ,1])))\n",
    "names(p_values) <- row.names(wald_z)\n",
    "p_values"
   ]
  },
  {
   "cell_type": "markdown",
   "metadata": {},
   "source": [
    "We can observe that sex does not have a significant p-value and ordinarily would not be included in the final model. That being said, sex may have some other clinical significance that we wouldn't ordinarily be aware of. Thus we elect to keep it in the model anyway. There is the potential of sex having other significant interactions, but since we aren't testing for that, we will ignore them for now."
   ]
  },
  {
   "cell_type": "markdown",
   "metadata": {},
   "source": [
    "### Model Use\n",
    "\n",
    "The model is: $logit(\\hat{\\pi}) = −0.671 − 0.043S + 0.407R + 1.206T_1 + 0.968T_2$\n",
    "\n",
    "For race <code>R</code>, we will assume <code>1 = white</code> and <code>0 = nonwhite</code>. For sex <code>S</code>, <code>1 = female</code> and <code>0 = male</code>. For drug type <code>T1</code> and <code>T2</code>, <code>T1</code> = 1, <code>T2</code> = 0 for alcohol, <code>T1</code> = 0, <code>T2</code> = 1 for cigarettes, <code>T1</code> = <code>T2</code> = 0 for marijuana.\n",
    "\n",
    "To find the group with the highest probability of use of alcohol:<br>\n",
    "$logit(\\hat{\\pi}) = −0.671 − 0.043S + 0.407R + 1.206$ is maximized when $S=0$ and $R=1$. So, the group with the highest probability of use of alochol is white males.\n",
    "\n",
    "Given gender, the estimated odds of a white subject using a given substance are times the estimated odds for a nonwhite subject:<br>\n",
    "White Subject: $−0.671 − 0.043S + 0.407(1) + 1.206T_1 + 0.968T_2$<br>\n",
    "Non-white Subject: $−0.671 − 0.043S + 0.407(0) + 1.206T_1 + 0.968T_2$<br>\n",
    "The difference between the two equations is the indicator for the $R$ value, so 0.407. Thus, the estimated odds of a white subject using a given substance is $e^{.407}=1.502$ times the estimated odds of a nonwhite subject using a given substance."
   ]
  },
  {
   "cell_type": "code",
   "execution_count": null,
   "metadata": {},
   "outputs": [],
   "source": []
  }
 ],
 "metadata": {
  "kernelspec": {
   "display_name": "R",
   "language": "R",
   "name": "ir"
  },
  "language_info": {
   "codemirror_mode": "r",
   "file_extension": ".r",
   "mimetype": "text/x-r-source",
   "name": "R",
   "pygments_lexer": "r",
   "version": "3.6.1"
  }
 },
 "nbformat": 4,
 "nbformat_minor": 2
}
